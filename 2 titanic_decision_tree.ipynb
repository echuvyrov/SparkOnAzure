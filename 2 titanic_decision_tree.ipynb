{
 "cells": [
  {
   "cell_type": "markdown",
   "metadata": {},
   "source": [
    "##Preliminaries\n",
    "Add the necessary libraries and create Spark Context and create an RDD"
   ]
  },
  {
   "cell_type": "code",
   "execution_count": 1,
   "metadata": {
    "collapsed": true
   },
   "outputs": [],
   "source": [
    "from pyspark import SparkContext\n",
    "from pyspark.mllib.regression import LabeledPoint\n",
    "from pyspark.mllib.tree import DecisionTree\n",
    "\n",
    "sc = SparkContext(appName=\"TitanicLR\")\n",
    "fileNameTrain = 'wasb://kaggle@criteo.blob.core.windows.net/train.csv'\n",
    "points = sc.textFile(fileNameTrain)"
   ]
  },
  {
   "cell_type": "markdown",
   "metadata": {},
   "source": [
    "Create a function to parse CSV lines and convert them to LabeledPoint. LabeledPoint is the class that our Machine Learning algorithms expects (down below). Note the additional values we are extracting from the data - 'gender' and 'embarked.'"
   ]
  },
  {
   "cell_type": "code",
   "execution_count": 2,
   "metadata": {
    "collapsed": false
   },
   "outputs": [],
   "source": [
    "def parsePoint(line):\n",
    "    \"\"\"\n",
    "    Parse a line of text into an MLlib LabeledPoint object.\n",
    "    \"\"\"\n",
    "    values = line.split(',')\n",
    "    values = [0 if e == '' else e for e in values]\n",
    "    gender = abs(hash(values[5]))\n",
    "    embarked = abs(hash(values[12]))\n",
    "    return LabeledPoint(float(values[1]), [float(values[2]),gender,float(values[6]),float(values[7]),float(values[8]),float(values[10]),embarked])\n"
   ]
  },
  {
   "cell_type": "code",
   "execution_count": 3,
   "metadata": {
    "collapsed": false
   },
   "outputs": [
    {
     "name": "stdout",
     "output_type": "stream",
     "text": [
      "1,0,3,\"Braund, Mr. Owen Harris\",male,22,1,0,A/5 21171,7.25,,S\n"
     ]
    }
   ],
   "source": [
    "#skip header\n",
    "header = points.first() #extract header\n",
    "points = points.filter(lambda x:x !=header) #filter out header\n",
    "\n",
    "print points.first()\n"
   ]
  },
  {
   "cell_type": "markdown",
   "metadata": {},
   "source": [
    "Split the data into training and test set - much better to test on unseen data"
   ]
  },
  {
   "cell_type": "code",
   "execution_count": 9,
   "metadata": {
    "collapsed": false
   },
   "outputs": [
    {
     "name": "stdout",
     "output_type": "stream",
     "text": [
      "[LabeledPoint(1.0, [1.0,1620467478.0,35.0,1.0,0.0,53.1,2034097362.0]), LabeledPoint(0.0, [3.0,1067159931.0,35.0,0.0,0.0,8.05,2034097362.0]), LabeledPoint(0.0, [3.0,1067159931.0,0.0,0.0,0.0,8.4583,1778096592.0])]\n"
     ]
    }
   ],
   "source": [
    "labeledPoints = points.map(parsePoint)\n",
    "\n",
    "# Split the data into training and test sets (30% held out for testing)\n",
    "(trainingData, testData) = labeledPoints.randomSplit([0.7, 0.3])\n",
    "print trainingData.take(3)"
   ]
  },
  {
   "cell_type": "markdown",
   "metadata": {},
   "source": [
    "Train Decision Tree classifier"
   ]
  },
  {
   "cell_type": "code",
   "execution_count": 8,
   "metadata": {
    "collapsed": false
   },
   "outputs": [],
   "source": [
    "model=DecisionTree.trainClassifier(trainingData, numClasses=2, categoricalFeaturesInfo={},\n",
    "                                     impurity='gini', maxDepth=5, maxBins=32)\n"
   ]
  },
  {
   "cell_type": "markdown",
   "metadata": {},
   "source": [
    "And make predictions"
   ]
  },
  {
   "cell_type": "code",
   "execution_count": 6,
   "metadata": {
    "collapsed": false
   },
   "outputs": [
    {
     "name": "stdout",
     "output_type": "stream",
     "text": [
      "Test Error = 0.185606060606\n",
      "Learned classification tree model:\n",
      "DecisionTreeModel classifier of depth 5 with 55 nodes\n",
      "  If (feature 1 <= 1.067159931E9)\n",
      "   If (feature 5 <= 15.55)\n",
      "    If (feature 3 <= 0.0)\n",
      "     If (feature 6 <= 1.3908798E7)\n",
      "      If (feature 2 <= 29.0)\n",
      "       Predict: 0.0\n",
      "      Else (feature 2 > 29.0)\n",
      "       Predict: 0.0\n",
      "     Else (feature 6 > 1.3908798E7)\n",
      "      If (feature 5 <= 7.7417)\n",
      "       Predict: 0.0\n",
      "      Else (feature 5 > 7.7417)\n",
      "       Predict: 0.0\n",
      "    Else (feature 3 > 0.0)\n",
      "     If (feature 2 <= 13.0)\n",
      "      If (feature 5 <= 7.75)\n",
      "       Predict: 0.0\n",
      "      Else (feature 5 > 7.75)\n",
      "       Predict: 1.0\n",
      "     Else (feature 2 > 13.0)\n",
      "      If (feature 2 <= 25.0)\n",
      "       Predict: 0.0\n",
      "      Else (feature 2 > 25.0)\n",
      "       Predict: 0.0\n",
      "   Else (feature 5 > 15.55)\n",
      "    If (feature 2 <= 13.0)\n",
      "     If (feature 2 <= 0.0)\n",
      "      If (feature 5 <= 69.3)\n",
      "       Predict: 0.0\n",
      "      Else (feature 5 > 69.3)\n",
      "       Predict: 0.0\n",
      "     Else (feature 2 > 0.0)\n",
      "      If (feature 3 <= 2.0)\n",
      "       Predict: 1.0\n",
      "      Else (feature 3 > 2.0)\n",
      "       Predict: 0.0\n",
      "    Else (feature 2 > 13.0)\n",
      "     If (feature 0 <= 1.0)\n",
      "      If (feature 2 <= 52.0)\n",
      "       Predict: 0.0\n",
      "      Else (feature 2 > 52.0)\n",
      "       Predict: 0.0\n",
      "     Else (feature 0 > 1.0)\n",
      "      If (feature 5 <= 46.9)\n",
      "       Predict: 0.0\n",
      "      Else (feature 5 > 46.9)\n",
      "       Predict: 0.0\n",
      "  Else (feature 1 > 1.067159931E9)\n",
      "   If (feature 0 <= 2.0)\n",
      "    If (feature 2 <= 24.0)\n",
      "     Predict: 1.0\n",
      "    Else (feature 2 > 24.0)\n",
      "     If (feature 2 <= 26.0)\n",
      "      If (feature 3 <= 0.0)\n",
      "       Predict: 1.0\n",
      "      Else (feature 3 > 0.0)\n",
      "       Predict: 0.0\n",
      "     Else (feature 2 > 26.0)\n",
      "      If (feature 5 <= 31.0)\n",
      "       Predict: 1.0\n",
      "      Else (feature 5 > 31.0)\n",
      "       Predict: 1.0\n",
      "   Else (feature 0 > 2.0)\n",
      "    If (feature 5 <= 8.0292)\n",
      "     If (feature 2 <= 26.0)\n",
      "      If (feature 5 <= 7.25)\n",
      "       Predict: 1.0\n",
      "      Else (feature 5 > 7.25)\n",
      "       Predict: 1.0\n",
      "     Else (feature 2 > 26.0)\n",
      "      Predict: 0.0\n",
      "    Else (feature 5 > 8.0292)\n",
      "     If (feature 5 <= 25.4667)\n",
      "      If (feature 5 <= 15.55)\n",
      "       Predict: 0.0\n",
      "      Else (feature 5 > 15.55)\n",
      "       Predict: 1.0\n",
      "     Else (feature 5 > 25.4667)\n",
      "      If (feature 4 <= 3.0)\n",
      "       Predict: 0.0\n",
      "      Else (feature 4 > 3.0)\n",
      "       Predict: 0.0\n",
      "\n"
     ]
    }
   ],
   "source": [
    "# Evaluate model on test instances and compute test error\n",
    "predictions = model.predict(testData.map(lambda x: x.features))\n",
    "labelsAndPredictions = testData.map(lambda lp: lp.label).zip(predictions)\n",
    "testErr = labelsAndPredictions.filter(lambda (v, p): v != p).count() / float(testData.count())\n",
    "\n",
    "print('Test Error = ' + str(testErr))\n",
    "print('Learned classification tree model:')\n",
    "print(model.toDebugString())"
   ]
  },
  {
   "cell_type": "markdown",
   "metadata": {},
   "source": [
    "Read test data and make predictions"
   ]
  },
  {
   "cell_type": "code",
   "execution_count": 7,
   "metadata": {
    "collapsed": false
   },
   "outputs": [
    {
     "name": "stdout",
     "output_type": "stream",
     "text": [
      "[u'892,3,\"Kelly, Mr. James\",male,34.5,0,0,330911,7.8292,,Q', u'893,3,\"Wilkes, Mrs. James (Ellen Needs)\",female,47,1,0,363272,7,,S']\n",
      "[0.0, 0.0, 0.0, 0.0, 0.0, 0.0, 0.0, 0.0, 1.0, 0.0, 0.0, 0.0, 1.0, 0.0, 1.0, 1.0, 0.0, 0.0, 0.0, 0.0, 0.0, 0.0, 1.0, 0.0, 1.0, 0.0, 1.0, 0.0, 0.0, 0.0, 0.0, 0.0, 1.0, 1.0, 0.0, 0.0, 0.0, 0.0, 0.0, 0.0, 0.0, 0.0, 0.0, 1.0, 1.0, 0.0, 0.0, 0.0, 1.0, 1.0, 0.0, 0.0, 1.0, 1.0, 0.0, 0.0, 0.0, 0.0, 0.0, 1.0, 0.0, 0.0, 0.0, 1.0, 1.0, 1.0, 1.0, 0.0, 0.0, 1.0, 1.0, 0.0, 0.0, 0.0, 1.0, 0.0, 0.0, 1.0, 0.0, 1.0, 1.0, 0.0, 0.0, 0.0, 0.0, 1.0, 0.0, 0.0, 1.0, 1.0, 0.0, 0.0, 1.0, 0.0, 0.0, 0.0, 1.0, 0.0, 1.0, 0.0, 1.0, 0.0, 0.0, 0.0, 0.0, 0.0, 0.0, 0.0, 0.0, 0.0, 0.0, 1.0, 1.0, 1.0, 1.0, 0.0, 0.0, 1.0, 0.0, 1.0, 1.0, 0.0, 1.0, 0.0, 0.0]\n"
     ]
    }
   ],
   "source": [
    "from pyspark.mllib.linalg import Vectors\n",
    "\n",
    "def parseTestPoint(line):\n",
    "    \"\"\"\n",
    "    Parse a line of text into an MLlib LabeledPoint object.\n",
    "    \"\"\"\n",
    "    values = line.split(',')\n",
    "    values = [0 if e == '' else e for e in values]\n",
    "    gender = abs(hash(values[4]))\n",
    "    embarked = abs(hash(values[11]))\n",
    "    return Vectors.dense([float(values[1]),gender,float(values[5]),float(values[6]),float(values[7]),float(values[9]),embarked])\n",
    "\n",
    "fileNameTest = 'wasb://kaggle@criteo.blob.core.windows.net/test.csv'\n",
    "testPoints = sc.textFile(fileNameTest)\n",
    "\n",
    "#skip header\n",
    "headerTest = testPoints.first() #extract header\n",
    "testPoints = testPoints.filter(lambda x:x !=headerTest) #filter out header\n",
    "print testPoints.take(2)\n",
    "\n",
    "testPoints = testPoints.map(parseTestPoint)\n",
    "\n",
    "predictions = model.predict(testPoints)\n",
    "print predictions.take(125)"
   ]
  },
  {
   "cell_type": "markdown",
   "metadata": {},
   "source": [
    "Get Passenger Ids, join to predictions and create a submission file"
   ]
  },
  {
   "cell_type": "code",
   "execution_count": 8,
   "metadata": {
    "collapsed": false
   },
   "outputs": [
    {
     "name": "stdout",
     "output_type": "stream",
     "text": [
      "[u'892', u'893', u'894']\n"
     ]
    }
   ],
   "source": [
    "#write out predictions to .CSV file\n",
    "submissionIds = sc.textFile(fileNameTest).map(lambda x: x.split(',')[0])\n",
    "\n",
    "#skip header\n",
    "headerSubmission = submissionIds.first() #extract header\n",
    "submissionIds = submissionIds.filter(lambda x:x !=headerSubmission) #filter out header\n",
    "print submissionIds.take(3)"
   ]
  },
  {
   "cell_type": "code",
   "execution_count": 14,
   "metadata": {
    "collapsed": false
   },
   "outputs": [],
   "source": [
    "submission = submissionIds.zip(predictions.map(lambda x: int(x)))"
   ]
  },
  {
   "cell_type": "code",
   "execution_count": 16,
   "metadata": {
    "collapsed": false
   },
   "outputs": [],
   "source": [
    "submission.map(lambda a: str(a[0]) + \",\" + str(a[1])).coalesce(1,True).saveAsTextFile('wasb://criteo@criteo.blob.core.windows.net/kaggle/svcc_test2.csv')"
   ]
  },
  {
   "cell_type": "code",
   "execution_count": null,
   "metadata": {
    "collapsed": true
   },
   "outputs": [],
   "source": []
  }
 ],
 "metadata": {
  "kernelspec": {
   "display_name": "Python 2",
   "language": "python",
   "name": "python2"
  },
  "language_info": {
   "codemirror_mode": {
    "name": "ipython",
    "version": 2
   },
   "file_extension": ".py",
   "mimetype": "text/x-python",
   "name": "python",
   "nbconvert_exporter": "python",
   "pygments_lexer": "ipython2",
   "version": "2.7.8"
  }
 },
 "nbformat": 4,
 "nbformat_minor": 0
}
