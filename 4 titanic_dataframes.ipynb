{
 "cells": [
  {
   "cell_type": "markdown",
   "metadata": {},
   "source": [
    "##Preliminaries"
   ]
  },
  {
   "cell_type": "code",
   "execution_count": 1,
   "metadata": {
    "collapsed": false
   },
   "outputs": [],
   "source": [
    "from pyspark import SparkContext\n",
    "\n",
    "sc = SparkContext(appName=\"TitanicLR\")\n",
    "fileNameTrain = 'wasb://kaggle@criteo.blob.core.windows.net/train.csv'\n",
    "points = sc.textFile(fileNameTrain)"
   ]
  },
  {
   "cell_type": "markdown",
   "metadata": {},
   "source": [
    "Import Spark SQL libraries"
   ]
  },
  {
   "cell_type": "code",
   "execution_count": 2,
   "metadata": {
    "collapsed": false
   },
   "outputs": [],
   "source": [
    "from pyspark.sql import SQLContext, Row\n",
    "sqlContext = SQLContext(sc)\n",
    "\n",
    "def parsePoint(line):\n",
    "    \"\"\"\n",
    "    Parse a line of text into an MLlib LabeledPoint object.\n",
    "    \"\"\"\n",
    "    values = line.split(',')\n",
    "    values = [0 if e == '' else e for e in values]\n",
    "    gender = abs(hash(values[5]))\n",
    "    embarked = abs(hash(values[12]))\n",
    "    return Row(label=float(values[1]), pclass=float(values[2]), plastname=values[3], pgender=gender,page=float(values[6]), psibsp=float(values[7]), pparch=float(values[8]), pfare=float(values[10]), pembaked=embarked)\n"
   ]
  },
  {
   "cell_type": "code",
   "execution_count": 3,
   "metadata": {
    "collapsed": false
   },
   "outputs": [
    {
     "name": "stdout",
     "output_type": "stream",
     "text": [
      "1,0,3,\"Braund, Mr. Owen Harris\",male,22,1,0,A/5 21171,7.25,,S\n"
     ]
    }
   ],
   "source": [
    "#skip header\n",
    "header = points.first() #extract header\n",
    "points = points.filter(lambda x:x !=header) #filter out header\n",
    "\n",
    "print points.first()\n"
   ]
  },
  {
   "cell_type": "markdown",
   "metadata": {},
   "source": [
    "Create DataFrame, infer schema and do some basic manipulation of the data"
   ]
  },
  {
   "cell_type": "code",
   "execution_count": 4,
   "metadata": {
    "collapsed": false
   },
   "outputs": [
    {
     "name": "stdout",
     "output_type": "stream",
     "text": [
      "Survived: \"Nasser, age: 14.0\n",
      "Survived: \"Vestrom, age: 14.0\n",
      "Survived: \"McGowan, age: 15.0\n",
      "Survived: \"Fortune, age: 19.0\n",
      "Survived: \"Vander Planke, age: 18.0\n",
      "Survived: \"Nicola-Yarred, age: 14.0\n",
      "Survived: \"Devaney, age: 19.0\n",
      "Survived: \"Arnold-Franchi, age: 18.0\n",
      "Survived: \"Crease, age: 19.0\n",
      "Survived: \"Andersson, age: 17.0\n",
      "Survived: \"Goodwin, age: 16.0\n",
      "Survived: \"Ilett, age: 17.0\n",
      "Survived: \"Ford, age: 16.0\n",
      "Survived: \"Zabour, age: 14.5\n",
      "Survived: \"Attalah, age: 17.0\n",
      "Survived: \"Newsom, age: 19.0\n",
      "Survived: \"Osen, age: 16.0\n",
      "Survived: \"Burke, age: 19.0\n",
      "Survived: \"Andrew, age: 18.0\n",
      "Survived: \"Nicholls, age: 19.0\n",
      "Survived: \"Gilnagh, age: 16.0\n",
      "Survived: \"Calic, age: 17.0\n",
      "Survived: \"Klasen, age: 18.0\n",
      "Survived: \"Carbines, age: 19.0\n",
      "Survived: \"Andersen-Jensen, age: 19.0\n",
      "Survived: \"Cohen, age: 18.0\n",
      "Survived: \"Carr, age: 16.0\n",
      "Survived: \"Sunderland, age: 16.0\n",
      "Survived: \"Mellors, age: 19.0\n",
      "Survived: \"Fahlstrom, age: 18.0\n",
      "Survived: \"Pengelly, age: 19.0\n",
      "Survived: \"Panula, age: 16.0\n",
      "Survived: \"de Pelsmaeker, age: 16.0\n",
      "Survived: \"Dorking, age: 19.0\n",
      "Survived: \"Bishop, age: 19.0\n",
      "Survived: \"Johnson, age: 19.0\n",
      "Survived: \"Penasco y Castellana, age: 17.0\n",
      "Survived: \"Ryerson, age: 18.0\n",
      "Survived: \"Hippach, age: 16.0\n",
      "Survived: \"Vander Planke, age: 16.0\n",
      "Survived: \"Elias, age: 15.0\n",
      "Survived: \"Wiklund, age: 18.0\n",
      "Survived: \"Beavan, age: 19.0\n",
      "Survived: \"Gustafsson, age: 19.0\n",
      "Survived: \"Davies, age: 18.0\n",
      "Survived: \"Lehmann, age: 17.0\n",
      "Survived: \"Silven, age: 18.0\n",
      "Survived: \"Rosblom, age: 18.0\n",
      "Survived: \"Phillips, age: 19.0\n",
      "Survived: \"Kallio, age: 17.0\n",
      "Survived: \"Carter, age: 14.0\n",
      "Survived: \"Mellinger, age: 13.0\n",
      "Survived: \"Calic, age: 17.0\n",
      "Survived: \"Maioni, age: 16.0\n",
      "Survived: \"Penasco y Castellana, age: 18.0\n",
      "Survived: \"Elias, age: 17.0\n",
      "Survived: \"Beane, age: 19.0\n",
      "Survived: \"Thayer, age: 17.0\n",
      "Survived: \"Stoytcheff, age: 19.0\n",
      "Survived: \"Rush, age: 16.0\n",
      "Survived: \"Patchett, age: 19.0\n",
      "Survived: \"Taussig, age: 18.0\n",
      "Survived: \"Cor, age: 19.0\n",
      "Survived: \"Doling, age: 18.0\n",
      "Survived: \"Hegarty, age: 18.0\n",
      "Survived: \"Edvardsson, age: 18.0\n",
      "Survived: \"Turja, age: 18.0\n",
      "Survived: \"Goodwin, age: 14.0\n",
      "Survived: \"Panula, age: 14.0\n",
      "Survived: \"Dakic, age: 19.0\n",
      "Survived: \"Fischer, age: 18.0\n",
      "Survived: \"Madill, age: 15.0\n",
      "Survived: \"Astor, age: 18.0\n",
      "Survived: \"Barbara, age: 18.0\n",
      "Survived: \"Soholt, age: 19.0\n",
      "Survived: \"Jensen, age: 17.0\n",
      "Survived: \"Abbott, age: 16.0\n",
      "Survived: \"Marvin, age: 19.0\n",
      "Survived: \"Bailey, age: 18.0\n",
      "Survived: \"Eklund, age: 16.0\n",
      "Survived: \"Myhrman, age: 18.0\n",
      "Survived: \"Ayoub, age: 13.0\n",
      "Survived: \"Dick, age: 17.0\n",
      "Survived: \"Sjoblom, age: 18.0\n",
      "Survived: \"Gaskell, age: 16.0\n",
      "Survived: \"Pettersson, age: 18.0\n",
      "Survived: \"Yasbeck, age: 15.0\n",
      "Survived: \"Allum, age: 18.0\n",
      "Survived: \"Mudd, age: 16.0\n",
      "Survived: \"Culumovic, age: 17.0\n",
      "Survived: \"Lines, age: 16.0\n",
      "Survived: \"Aks, age: 18.0\n",
      "Survived: \"Najib, age: 15.0\n",
      "Survived: \"Petroff, age: 19.0\n",
      "Survived: \"Graham, age: 19.0\n"
     ]
    }
   ],
   "source": [
    "dfPoints = points.map(parsePoint)\n",
    "\n",
    "# Infer the schema, and register the DataFrame as a table.\n",
    "schemaPeople = sqlContext.createDataFrame(dfPoints)\n",
    "schemaPeople.registerTempTable(\"titanic\")\n",
    "\n",
    "# SQL can be run over DataFrames that have been registered as a table.\n",
    "teenagers = sqlContext.sql(\"SELECT plastname, page FROM titanic WHERE page >= 13 AND page <= 19\")\n",
    "\n",
    "teenagers = teenagers.map(lambda p: \"Survived: \" + p.plastname + \", age: \" + str(p.page))\n",
    "for teen in teenagers.collect():\n",
    "    print(teen)"
   ]
  },
  {
   "cell_type": "code",
   "execution_count": null,
   "metadata": {
    "collapsed": true
   },
   "outputs": [],
   "source": [
    "from pyspark.ml import Pipeline\n",
    "from pyspark.ml.classification import LogisticRegression\n",
    "from pyspark.ml.feature import HashingTF, Tokenizer\n",
    "\n",
    "# Prepare training documents from a list of (id, text, label) tuples.\n",
    "\n",
    "# Configure an ML pipeline, which consists of tree stages: tokenizer, hashingTF, and lr.\n",
    "tokenizer = Tokenizer(inputCol=\"text\", outputCol=\"words\")\n",
    "hashingTF = HashingTF(inputCol=tokenizer.getOutputCol(), outputCol=\"features\")\n",
    "\n",
    "lr = LogisticRegression(maxIter=10, regParam=0.01)\n",
    "    .setLabelCol(\"label\")\n",
    "    .setFeaturesCol(\"features\")\n",
    "    .setPredictionCol(\"predictions\")\n",
    "\n",
    "pipeline = Pipeline(stages=[tokenizer, hashingTF, lr])\n",
    "\n",
    "# Fit the pipeline to training documents.\n",
    "model = pipeline.fit(training)"
   ]
  },
  {
   "cell_type": "code",
   "execution_count": null,
   "metadata": {
    "collapsed": true
   },
   "outputs": [],
   "source": []
  }
 ],
 "metadata": {
  "kernelspec": {
   "display_name": "Python 2",
   "language": "python",
   "name": "python2"
  },
  "language_info": {
   "codemirror_mode": {
    "name": "ipython",
    "version": 2
   },
   "file_extension": ".py",
   "mimetype": "text/x-python",
   "name": "python",
   "nbconvert_exporter": "python",
   "pygments_lexer": "ipython2",
   "version": "2.7.8"
  }
 },
 "nbformat": 4,
 "nbformat_minor": 0
}
